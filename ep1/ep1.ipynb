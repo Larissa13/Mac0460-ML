{
 "cells": [
  {
   "cell_type": "markdown",
   "metadata": {
    "collapsed": false,
    "deletable": true,
    "editable": true
   },
   "source": [
    "### Nome: Larissa de Oliveira Penteado\n",
    "### NUsp: 8941338"
   ]
  },
  {
   "cell_type": "code",
   "execution_count": null,
   "metadata": {
    "collapsed": true
   },
   "outputs": [],
   "source": [
    "%matplotlib inline\n",
    "import matplotlib.pyplot as plt\n",
    "import numpy as np\n",
    "import PIL\n",
    "\n",
    "from mac0460_5832.utils import *"
   ]
  },
  {
   "cell_type": "markdown",
   "metadata": {
    "deletable": true,
    "editable": true
   },
   "source": [
    "# MAC0460/5832 - Lista 1: Aprendizado de W-Operadores\n",
    "\n",
    "### Data de Entrega: 23h55m do dia 05/05/2017\n",
    "\n",
    "\n",
    "Q1. Encontre, utilizando a técnica de aprendizado de w-operadores vista em sala, o operador 1x3 (1 linha, 3 colunas) capaz de transformar a imagem src1 em dest1 (veja as variáveis abaixo) mostrando a tabela de padrões encontrada. Teste seu operador na imagem src1 e verifique que ele funciona como esperado. Teste seu operador nas imagens images/q1/1_test1.png e images/q1/1_test2.png desenhando as imagens obtidas (sugestão: use a função draw_img do arquivo mac0460_5832/utils.py)."
   ]
  },
  {
   "cell_type": "code",
   "execution_count": 4,
   "metadata": {
    "collapsed": false
   },
   "outputs": [],
   "source": [
    "def read_image(filename):\n",
    "    import PIL.Image\n",
    "    return pil2array(PIL.Image.open(filename)) \n",
    "\n",
    "def pil2array(pil):\n",
    "    w, h = pil.size\n",
    "    shape = (h, w)\n",
    "    image_dtype = np.uint8\n",
    "    if pil.mode == '1':\n",
    "        image_dtype = np.bool\n",
    "    elif pil.mode == 'L':\n",
    "        image_dtype = np.uint8\n",
    "    elif pil.mode == 'I;16B':\n",
    "        image_dtype = np.uint16\n",
    "    elif pil.mode  in ('F', 'I'):\n",
    "        image_dtype = np.uint32\n",
    "    elif pil.mode == 'P':\n",
    "        pil = pil.convert('RGB')\n",
    "        shape = (h,w,3)\n",
    "    elif pil.mode in ('RGB', 'YCbCr'):\n",
    "        shape = (h,w,3)\n",
    "        image_dtype = np.uint8\n",
    "    elif pil.mode in ('RGBA', 'CMYK'):\n",
    "        shape = (h,w,4)\n",
    "        image_dtype = np.uint8\n",
    "    else:\n",
    "        raise TypeError(\"Invalid or unimplemented PIL image mode '%s'\" % pil.mode)\n",
    "    img = np.array(pil.getdata(), image_dtype).reshape(shape)\n",
    "    if img.dtype == bool:\n",
    "        return img\n",
    "    return img > 127\n",
    "\n",
    "def display_image(ima, width=None, height=None):\n",
    "    from io import BytesIO\n",
    "    import PIL.Image\n",
    "    from IPython.display import display, Image\n",
    "\n",
    "    im = PIL.Image.fromarray(np.uint8(ima))\n",
    "    bio = BytesIO()\n",
    "    im.save(bio, format='png')\n",
    "\n",
    "    if width is None and height is None:\n",
    "        display(Image(bio.getvalue(),  format='png'))\n",
    "    elif width is None:\n",
    "        display(Image(bio.getvalue(), height=height,  format='png'))\n",
    "    elif height is None:\n",
    "        display(Image(bio.getvalue(), width=width,  format='png'))\n",
    "    else:\n",
    "        display(Image(bio.getvalue(), width=width, height=height,  format='png'))"
   ]
  },
  {
   "cell_type": "code",
   "execution_count": 58,
   "metadata": {
    "collapsed": false
   },
   "outputs": [],
   "source": [
    "def insert_counter(key, counter, value):\n",
    "    if not key in counter:\n",
    "            counter[key] = [0, 0]\n",
    "    counter[key][value] += 1\n",
    "    \n",
    "def check_counter(key, counter):\n",
    "    if key in counter:\n",
    "        return counter[key]\n",
    "    else: return False\n",
    "\n",
    "def get_value(i, j, img):\n",
    "    H, W = np.shape(img)\n",
    "    if i<0 or j<0 or i>=H or j>=W:\n",
    "        return False\n",
    "    else: return img[i][j]\n",
    "    \n",
    "def get_pattern(i, j, img, window, win_center):\n",
    "    h, w = np.shape(window)\n",
    "    i_cen = i - win_center[0]\n",
    "    j_cen = j - win_center[1]\n",
    "    pattern = []\n",
    "    for k in range(h):\n",
    "        for l in range(w):\n",
    "            if window[k][l] == True:\n",
    "                pattern.append(get_value(i_cen+k, j_cen +l,img))\n",
    "    return tuple(pattern)\n",
    "\n",
    "def get_result(counter):\n",
    "    result = dict()\n",
    "    for pattern in counter:\n",
    "        if counter[pattern][0] >= counter[pattern][1]:\n",
    "            result[pattern] = False\n",
    "        else: result[pattern] = True\n",
    "    return result\n",
    "\n",
    "def learn_geral(in_image, out_image, window, center):\n",
    "    counter = dict()\n",
    "    for k in range(len(in_image)):\n",
    "        image = in_image[k]\n",
    "        H,W = np.shape(image)\n",
    "        for i in range(H):\n",
    "            for j in range(W):\n",
    "                pattern = get_pattern(i, j, image, window, center)\n",
    "                insert_counter(pattern, counter, out_image[k][i][j])\n",
    "            \n",
    "    return get_result(counter)\n",
    "\n",
    "def apply_learn(result, image, window, center):\n",
    "    H, W = np.shape(image)\n",
    "    o_image = np.zeros((H,W), dtype=bool)\n",
    "    for i in range(H):\n",
    "        for j in range(W):\n",
    "            a = get_pattern(i, j, image, window, center)\n",
    "            o_image[i][j] = check_counter(a, result)\n",
    "    return o_image\n",
    "\n",
    "def apply_learnmult(result, image, window, center):\n",
    "    n = len(result)\n",
    "    H, W = np.shape(image)\n",
    "    o_image = np.zeros((H,W), dtype=bool)\n",
    "    for i in range(H):\n",
    "        for j in range(W):\n",
    "            found = False\n",
    "            k = 0\n",
    "            while k<n and not found:\n",
    "                a = get_pattern(i, j, image, window[k], center[k])\n",
    "                if a in result[k]:\n",
    "                    o_image[i][j] = result[k][a]\n",
    "                    found = True\n",
    "                k+=1\n",
    "    return o_image\n",
    "\n",
    "def calculate_error(image_in, image_out):\n",
    "    error = 0\n",
    "    for i in range(np.shape(image_in)[0]):\n",
    "        for j in range(np.shape(image_in)[1]):\n",
    "            if (image_in[i][j]) != (image_out[i][j]):\n",
    "                error+=1\n",
    "    return error"
   ]
  },
  {
   "cell_type": "code",
   "execution_count": 15,
   "metadata": {
    "collapsed": false
   },
   "outputs": [
    {
     "name": "stdout",
     "output_type": "stream",
     "text": [
      "True\n",
      "{(0, 1): True}\n"
     ]
    }
   ],
   "source": [
    "counter = dict()\n",
    "insert_counter((0,1), counter, True)\n",
    "counter = get_result(counter)\n",
    "print(check_counter((0,1), counter))\n",
    "print(counter)"
   ]
  },
  {
   "cell_type": "code",
   "execution_count": 18,
   "metadata": {
    "collapsed": false,
    "deletable": true,
    "editable": true
   },
   "outputs": [
    {
     "data": {
      "image/png": "[encoded data removed]",
      "text/plain": [
       "<matplotlib.figure.Figure at 0x7f5369067be0>"
      ]
     },
     "metadata": {},
     "output_type": "display_data"
    },
    {
     "data": {
      "image/png": "[encoded data removed]",
      "text/plain": [
       "<matplotlib.figure.Figure at 0x7f536716e320>"
      ]
     },
     "metadata": {},
     "output_type": "display_data"
    },
    {
     "data": {
      "image/png": "[encoded data removed]",
      "text/plain": [
       "<matplotlib.figure.Figure at 0x7f5366daa780>"
      ]
     },
     "metadata": {},
     "output_type": "display_data"
    },
    {
     "data": {
      "image/png": "[encoded data removed]",
      "text/plain": [
       "<matplotlib.figure.Figure at 0x7f5366c9acf8>"
      ]
     },
     "metadata": {},
     "output_type": "display_data"
    },
    {
     "data": {
      "image/png": "[encoded data removed]",
      "text/plain": [
       "<matplotlib.figure.Figure at 0x7f5367167dd8>"
      ]
     },
     "metadata": {},
     "output_type": "display_data"
    }
   ],
   "source": [
    "src1 = read_image('images/q1/1_src.png')\n",
    "dest1 = read_image('images/q1/1_dest.png')\n",
    "\n",
    "draw_img_pair(src1, dest1)\n",
    "\n",
    "test1_1 = read_image('images/q1/1_test1.png')\n",
    "test1_2 = read_image('images/q1/1_test2.png')\n",
    "draw_img(test1_1)\n",
    "draw_img(test1_2)\n",
    "\n",
    "#Code\n",
    "\"\"\"\n",
    "def learn1 (in_image, out_image):\n",
    "    H,W = np.shape(in_image)et_valu\n",
    "    print(H, W)\n",
    "    counter = dict()\n",
    "    for i in range(H):\n",
    "        a = (False, in_image[i][0], in_image[i][1])\n",
    "        insert_counter (a, counter, out_image[i][0])\n",
    "        for j in range(W-2):\n",
    "            a = (in_image[i][j], in_image[i][j+1], in_image[i][j+2])\n",
    "            insert_counter(a, counter, out_image[i][j+1])\n",
    "        a = (in_image[i][W-2], in_image[i][W-1], False)\n",
    "        insert_counter(a, counter, out_image[i][W-1])\n",
    "        \n",
    "    result = dict()\n",
    "    for pattern in counter:\n",
    "        if counter[pattern][0] > counter[pattern][1]:\n",
    "            result[pattern] = False\n",
    "        else: result[pattern] = True\n",
    "    return result\n",
    "\n",
    "\n",
    "    \n",
    "def apply_learn2(in_image, result):\n",
    "    H, W = np.shape(in_image)\n",
    "    out_image = np.zeros((H, W), dtype=bool)\n",
    "    for i in range(H):\n",
    "        a = (False, in_image[i][0], in_image[i][1])\n",
    "        out_image[i][0] = check_counter(a, result)\n",
    "        for j in range(W-2):\n",
    "            a = (in_image[i][j], in_image[i][j+1], in_image[i][j+2])\n",
    "            out_image[i][j+1] = check_counter(a, result)\n",
    "        a = (in_image[i][W-2], in_image[i][W-1], False)\n",
    "    return out_image\n",
    "\"\"\"  \n",
    "         \n",
    "window = np.ones((1, 3), dtype=bool)   \n",
    "center = (0, 1)\n",
    "result1 = learn_geral([src1], [dest1], window, center)\n",
    "image_test = apply_learn(result1, test1_1, window, center)\n",
    "image_test2 = apply_learn(result1, test1_2, window, center)\n",
    "draw_img(image_test)\n",
    "draw_img(image_test2)"
   ]
  },
  {
   "cell_type": "markdown",
   "metadata": {},
   "source": [
    "Q2. Aprenda o operador 3x3 para detecção de bordas. Treine seu operador nas imagens da pastas images/q2/ usando os pares (q2_src\\*.png, q2_dest\\*.png). Teste seu operador nas imagens images/q2/q2_test.png e images/q2/q2_test2.png. Algumas das imagens de treino são desenhadas abaixo."
   ]
  },
  {
   "cell_type": "code",
   "execution_count": null,
   "metadata": {
    "collapsed": false,
    "scrolled": false
   },
   "outputs": [],
   "source": [
    "src2_1 = read_image('images/q2/q2_src1.png')\n",
    "src2_2 = read_image('images/q2/q2_src2.png')\n",
    "src2_3 = read_image('images/q2/q2_src3.png')\n",
    "src2_4 = read_image('images/q2/q2_src4.png')\n",
    "src2_5 = read_image('images/q2/q2_src5.png')\n",
    "\n",
    "\n",
    "dest2_1 = read_image('images/q2/q2_dest1.png')\n",
    "dest2_2 = read_image('images/q2/q2_dest2.png')\n",
    "dest2_3 = read_image('images/q2/q2_dest3.png')\n",
    "dest2_4 = read_image('images/q2/q2_dest4.png')\n",
    "dest2_5 = read_image('images/q2/q2_dest5.png')\n",
    "\n",
    "draw_img_pair(src2_1, dest2_1)\n",
    "draw_img_pair(src2_2, dest2_2)\n",
    "draw_img_pair(src2_3, dest2_3)\n",
    "draw_img_pair(src2_4, dest2_4)\n",
    "draw_img_pair(src2_5, dest2_5)\n",
    "\n",
    "test2_1 = read_image('images/q2/q2_test.png')\n",
    "test2_2 = read_image('images/q2/q2_test2.png')\n",
    "\"\"\"\n",
    "def learn3 (in_image, out_image):\n",
    "    counter = dict()\n",
    "    n = len(in_image)\n",
    "    for k in range(n):\n",
    "        image = in_image[k]\n",
    "        oimage = out_image[k]\n",
    "        H,W = np.shape(image)\n",
    "        for i in range(H-2):\n",
    "            for j in range(W-2):\n",
    "                a = (image[i][j], image[i][j+1], image[i][j+2],\n",
    "                     image[i+1][j], image[i+1][j+1], image[i+1][j+2],\n",
    "                     image[i+2][j], image[i+2][j+1], image[i+2][j+2])\n",
    "                if not a in counter:\n",
    "                    counter[a] = [0, 0]\n",
    "                counter[a][oimage[i+1][j+1]] += 1\n",
    "                \n",
    "    result = dict()\n",
    "    for pattern in counter:\n",
    "        if counter[pattern][0] > counter[pattern][1]:\n",
    "            result[pattern] = False\n",
    "        else: result[pattern] = True\n",
    "    return result\n",
    "\n",
    "def apply_learn(in_image, result):\n",
    "    H, W = np.shape(in_image)\n",
    "    out_image = np.zeros((H, W), dtype=bool)\n",
    "    for i in range(H-2):\n",
    "        for j in range(W-2):\n",
    "            a = (in_image[i][j], in_image[i][j+1], in_image[i][j+2],\n",
    "                in_image[i+1][j], in_image[i+1][j+1], in_image[i+1][j+2],\n",
    "                in_image[i+2][j], in_image[i+2][j+1], in_image[i+2][j+2])\n",
    "            if a in result:\n",
    "                out_image[i+1][j+1] = result[a]\n",
    "    return out_image\n",
    "\"\"\"\n",
    "\n",
    "\n",
    "\n",
    "\n",
    "in_image = [src2_1, src2_2, src2_3, src2_4, src2_5]\n",
    "out_image = [dest2_1, dest2_2, dest2_3, dest2_4, dest2_5]\n",
    "window2 = np.ones((3, 3), dtype=bool)\n",
    "center2 = (1, 1)\n",
    "result2 = learn_geral(in_image, out_image, window2, center2)\n",
    "    \n",
    "\n",
    "image_1 = apply_learn(result2, test2_1, window2, center2)\n",
    "image_2 =  apply_learn(result2, test2_2, window2, center2)\n",
    "draw_img_pair(test2_1, image_1)\n",
    "draw_img_pair(test2_2, image_2)\n",
    "\n",
    "display_image(image_2*255)\n"
   ]
  },
  {
   "cell_type": "markdown",
   "metadata": {
    "deletable": true,
    "editable": true
   },
   "source": [
    "Q3. Use o algoritmo de aprendizado para obter um operador capaz de eliminar ruído. Use no treinamento as imagens images/q3/q3_src\\*.png sempre com o mesmo target images/q3/q3_dest.png. Teste a janela com 5 elementos (cruz). Teste seu operador nas imagens images/q3/q3_test1.png e images/q3/q3_test2.png. Calcule e plote os erros $E_{in}$ e $E_{out}$ obtidos durante o treinamento."
   ]
  },
  {
   "cell_type": "code",
   "execution_count": null,
   "metadata": {
    "collapsed": false,
    "deletable": true,
    "editable": true,
    "scrolled": false
   },
   "outputs": [],
   "source": [
    "src3_1 = read_image('images/q3/q3_src1.png')\n",
    "src3_2 = read_image('images/q3/q3_src2.png')\n",
    "src3_3 = read_image('images/q3/q3_src3.png')\n",
    "src3_4 = read_image('images/q3/q3_src4.png')\n",
    "src3_5 = read_image('images/q3/q3_src5.png')\n",
    "dest3 = read_image('images/q3/q3_dest.png')\n",
    "\n",
    "in_image3 = []\n",
    "for i in range(1,11):\n",
    "    in_image3.append(read_image('images/q3/q3_src{}.png'.format(i)))\n",
    "out_image3 = [dest3]*10\n",
    "window = [[False, True, False],\n",
    "          [True, True, True],\n",
    "          [False, True, False]]\n",
    "center = (1, 1)\n",
    "H, W = np.shape(dest3)\n",
    "test3_1 = read_image('images/q3/q3_test1.png')\n",
    "test3_2 = read_image('images/q3/q3_test2.png')\n",
    "\n",
    "for i in range(10):\n",
    "    result3 = learn_geral(in_image3[:i+1], out_image3[:i+1], window, center)\n",
    "    print(len(in_image3[:i+1]))\n",
    "    inerror = 0.0\n",
    "    for j in range(10):\n",
    "        image = apply_learn(result3, in_image3[j], window, center)\n",
    "        inerror += calculate_error(image, dest3)\n",
    "    inerror = inerror/(H*W*10.0)\n",
    "    print(inerror)\n",
    "    test1 = apply_learn(result3, test3_1, window, center)\n",
    "    test2 = apply_learn(result3, test3_2, window, center)\n",
    "    outerror = (calculate_error(test1, dest3) + calculate_error(test2, dest3))/(H*W*2.0)\n",
    "    print(outerror)\n",
    "    \n",
    "\n",
    "\n",
    "\n",
    "    \n",
    "draw_img_pair(src3_1, dest3)\n",
    "draw_img_pair(src3_2, dest3)\n",
    "draw_img_pair(src3_3, dest3)\n",
    "\n",
    "draw_img_pair(test3_1, test1)\n",
    "draw_img_pair(test3_2, test2)\n"
   ]
  },
  {
   "cell_type": "markdown",
   "metadata": {
    "deletable": true,
    "editable": true
   },
   "source": [
    "Q4. Projete um operador para aprender a extrair a letra 's' de imagens de texto. Para isso utilize os pares de imagens q4_src\\*.png q4_dest\\*.png da pasta images/q4/train. Teste seu operador nas imagens da pasta images/q4/test. Utilize a composição de janelas pequenas. Avalie o erro do seu operador comparando a saída obtida por ele com a saída esperada (imagens q4_gt\\*.png da pasta images/q4/test)."
   ]
  },
  {
   "cell_type": "code",
   "execution_count": null,
   "metadata": {
    "collapsed": false,
    "deletable": true,
    "editable": true,
    "scrolled": false
   },
   "outputs": [],
   "source": [
    "dest4_1a = read_image(\"images/q4/train/q4_dest1a.png\")\n",
    "src4_1a = read_image(\"images/q4/train/q4_src1a.png\")\n",
    "dest4_1b = read_image(\"images/q4/train/q4_dest1b.png\")\n",
    "src4_1b = read_image(\"images/q4/train/q4_src1b.png\")\n",
    "draw_img_pair(src4_1a, dest4_1a, figsz=(15, 6))\n",
    "draw_img_pair(src4_1b, dest4_1b, figsz=(15, 6))\n",
    "\n",
    "in_image4a = []\n",
    "in_image4b = []\n",
    "out_image4a = []\n",
    "out_image4b = []\n",
    "tests = []\n",
    "exp_results = []\n",
    "window4= np.ones((5, 5), dtype=bool)\n",
    "center4 = (2, 2)\n",
    "for i in range(1,11,2):\n",
    "    in_image4a.append(read_image('images/q4/train/q4_src{}a.png'.format(i)))\n",
    "    in_image4b.append(read_image('images/q4/train/q4_src{}b.png'.format(i)))\n",
    "    out_image4a.append(read_image('images/q4/train/q4_dest{}a.png'.format(i)))\n",
    "    out_image4b.append(read_image('images/q4/train/q4_dest{}b.png'.format(i)))\n",
    "\n",
    "    \n",
    "for i in range(2, 11, 2):\n",
    "    tests.append(read_image('images/q4/test/q4_test{}a.png'.format(i)))\n",
    "    tests.append(read_image('images/q4/test/q4_test{}b.png'.format(i)))\n",
    "    exp_results.append(read_image('images/q4/test/q4_gt{}a.png'.format(i)))\n",
    "    exp_results.append(read_image('images/q4/test/q4_gt{}b.png'.format(i)))\n",
    "\n",
    "result4a = learn_geral(in_image4a, out_image4a, window4, center4)\n",
    "for i in range(len(in_image4b)):\n",
    "    in_image4b[i] = apply_learn(result4a, in_image4b[i], window4, center4)\n",
    "    \n",
    "result4b = learn_geral(in_image4b, out_image4b, window4, center4)\n",
    "for i in range(len(tests)):\n",
    "    tests[i] = apply_learn(result4a, tests[i], window4, center4)\n",
    "    tests[i] = apply_learn(result4b, tests[i], window4, center4)\n",
    "    \n"
   ]
  },
  {
   "cell_type": "code",
   "execution_count": null,
   "metadata": {
    "collapsed": false
   },
   "outputs": [],
   "source": [
    "draw_img_pair(tests[3], tests[4], figsz=(15, 6))"
   ]
  },
  {
   "cell_type": "markdown",
   "metadata": {},
   "source": [
    "Q5. Utilizando a técnica de multiresolução, aprenda o operador capaz de remover ruído das imagens da pasta images/q5/. Utilize os pares de imagens (q5_src\\*.png, q5_dest.png) para o treinamento e depois teste seu  operador nas imagens q5_test1.png e q5_test2.png."
   ]
  },
  {
   "cell_type": "code",
   "execution_count": 29,
   "metadata": {
    "collapsed": false
   },
   "outputs": [
    {
     "data": {
      "image/png": "[encoded data removed]",
      "text/plain": [
       "<matplotlib.figure.Figure at 0x7f53670e14a8>"
      ]
     },
     "metadata": {},
     "output_type": "display_data"
    },
    {
     "data": {
      "image/png": "[encoded data removed]",
      "text/plain": [
       "<matplotlib.figure.Figure at 0x7f53670e1fd0>"
      ]
     },
     "metadata": {},
     "output_type": "display_data"
    },
    {
     "data": {
      "image/png": "[encoded data removed]",
      "text/plain": [
       "<matplotlib.figure.Figure at 0x7f5366cacac8>"
      ]
     },
     "metadata": {},
     "output_type": "display_data"
    }
   ],
   "source": [
    "dest5 = read_image(\"images/q5/q5_dest.png\")\n",
    "src5_1 = read_image(\"images/q5/q5_src1.png\")\n",
    "src5_2 = read_image(\"images/q5/q5_src2.png\")\n",
    "draw_img(dest5)\n",
    "draw_img(src5_1)\n",
    "draw_img(src5_2)\n",
    "\n",
    "in_image5 = []\n",
    "tests5 = []\n",
    "for i in range(1,11):\n",
    "    in_image5.append(read_image('images/q5/q5_src{}.png'.format(i)))\n",
    "out_image5 = [read_image('images/q5/q5_dest.png')]*10\n",
    "for i in range(1,4):\n",
    "    tests5.append(read_image('images/q5/q5_test{}.png'.format(i)))"
   ]
  },
  {
   "cell_type": "code",
   "execution_count": 30,
   "metadata": {
    "collapsed": false
   },
   "outputs": [
    {
     "ename": "NameError",
     "evalue": "name 'result5b' is not defined",
     "output_type": "error",
     "traceback": [
      "\u001b[1;31m---------------------------------------------------------------------------\u001b[0m",
      "\u001b[1;31mNameError\u001b[0m                                 Traceback (most recent call last)",
      "\u001b[1;32m<ipython-input-30-dd17d16987d9>\u001b[0m in \u001b[0;36m<module>\u001b[1;34m()\u001b[0m\n\u001b[0;32m      9\u001b[0m \u001b[0mresults5c\u001b[0m \u001b[1;33m=\u001b[0m \u001b[0mlearn_geral\u001b[0m\u001b[1;33m(\u001b[0m\u001b[0min_image5\u001b[0m\u001b[1;33m,\u001b[0m \u001b[0mout_image5\u001b[0m\u001b[1;33m,\u001b[0m \u001b[0mwindow5c\u001b[0m\u001b[1;33m,\u001b[0m \u001b[1;33m(\u001b[0m\u001b[1;36m0\u001b[0m\u001b[1;33m,\u001b[0m\u001b[1;36m0\u001b[0m\u001b[1;33m)\u001b[0m\u001b[1;33m)\u001b[0m\u001b[1;33m\u001b[0m\u001b[0m\n\u001b[0;32m     10\u001b[0m \u001b[1;33m\u001b[0m\u001b[0m\n\u001b[1;32m---> 11\u001b[1;33m \u001b[0mresults5\u001b[0m \u001b[1;33m=\u001b[0m \u001b[1;33m[\u001b[0m\u001b[0mresult5a\u001b[0m\u001b[1;33m,\u001b[0m \u001b[0mresult5b\u001b[0m\u001b[1;33m,\u001b[0m \u001b[0mresult5c\u001b[0m\u001b[1;33m]\u001b[0m\u001b[1;33m\u001b[0m\u001b[0m\n\u001b[0m\u001b[0;32m     12\u001b[0m \u001b[0mwindows\u001b[0m \u001b[1;33m=\u001b[0m \u001b[1;33m[\u001b[0m\u001b[0mwindow5a\u001b[0m\u001b[1;33m,\u001b[0m \u001b[0mwindow5b\u001b[0m\u001b[1;33m,\u001b[0m \u001b[0mwindow5c\u001b[0m\u001b[1;33m]\u001b[0m\u001b[1;33m\u001b[0m\u001b[0m\n\u001b[0;32m     13\u001b[0m \u001b[0mcenters\u001b[0m \u001b[1;33m=\u001b[0m \u001b[1;33m[\u001b[0m\u001b[0mcenter5\u001b[0m\u001b[1;33m,\u001b[0m \u001b[0mcenter5\u001b[0m\u001b[1;33m,\u001b[0m \u001b[1;33m(\u001b[0m\u001b[1;36m0\u001b[0m\u001b[1;33m,\u001b[0m\u001b[1;36m0\u001b[0m\u001b[1;33m)\u001b[0m\u001b[1;33m]\u001b[0m\u001b[1;33m\u001b[0m\u001b[0m\n",
      "\u001b[1;31mNameError\u001b[0m: name 'result5b' is not defined"
     ]
    }
   ],
   "source": [
    "window5a = np.ones((5, 5), dtype=bool)\n",
    "center5 = (2, 2)\n",
    "window5b = np.zeros((5, 5), dtype=bool)\n",
    "window5b[::2, ::2] = True\n",
    "window5c = [[True]]\n",
    "\n",
    "result5a = learn_geral(in_image5, out_image5, window5a, center5)\n",
    "result5b = learn_geral(in_image5, out_image5, window5b, center5)\n",
    "result5c = learn_geral(in_image5, out_image5, window5c, (0,0))\n",
    "\n",
    "results5 = [result5a, result5b, result5c]\n",
    "windows = [window5a, window5b, window5c]\n",
    "centers = [center5, center5, (0,0)]\n",
    "\n",
    "for i in range(len(tests5)):\n",
    "    results5.append(apply_learnmult(results5, tests5[i], windows, centers))\n"
   ]
  },
  {
   "cell_type": "code",
   "execution_count": 33,
   "metadata": {
    "collapsed": false
   },
   "outputs": [],
   "source": [
    "results5 = [result5a, results5b, results5c]\n",
    "windows = [window5a, window5b, window5c]\n",
    "centers = [center5, center5, (0,0)]\n",
    "\n",
    "for i in range(len(tests5)):\n",
    "    results5.append(apply_learnmult(results5, tests5[i], windows, centers))\n"
   ]
  },
  {
   "cell_type": "code",
   "execution_count": null,
   "metadata": {
    "collapsed": true
   },
   "outputs": [],
   "source": [
    "for i in range(len(tests5)):\n",
    "    draw_img(results5[i])"
   ]
  },
  {
   "cell_type": "markdown",
   "metadata": {},
   "source": [
    "Q6. Utilize a técnica de envelope, como visto em sala, para remover ruído de imagens. Use o mesmo dataset da questão anterior e as funções de morfologia disponíveis em mac0460_5832/utils.py para definir as funções $\\alpha$ e $\\beta$. Um exemplo de erosão em uma das imagens de treino é mostrado abaixo. Comente sobre a escolha das funções $\\alpha$ e $\\beta$."
   ]
  },
  {
   "cell_type": "code",
   "execution_count": null,
   "metadata": {
    "collapsed": false
   },
   "outputs": [],
   "source": [
    "src6_1 = read_image(\"images/q5/q5_src1.png\")\n",
    "draw_img(erosion(src6_1, se_box(2)))\n",
    "\n",
    "window6 = np.ones((5, 5), dtype=bool)\n",
    "center6 = (2,2)\n",
    "result6 = learn_geral(in_image5, out_image5, window6, center6)\n",
    "results6 = []\n",
    "for i in range(len(tests5)):\n",
    "    results6.append(apply_learn(result6, tests5[i], window6, center6))\n"
   ]
  },
  {
   "cell_type": "code",
   "execution_count": null,
   "metadata": {
    "collapsed": false
   },
   "outputs": [],
   "source": [
    "alpha6a = opening\n",
    "beta6a = closing\n",
    "resp6_enva = []\n",
    "display_image(results6[i])\n",
    "for i in range(len(results6)):\n",
    "    resp6_enva.append((results6[i] | alpha6a(results6[i], window6))& beta6a(results6[i], window6))\n",
    "    draw_img(resp6_enva[i])"
   ]
  },
  {
   "cell_type": "code",
   "execution_count": null,
   "metadata": {
    "collapsed": true
   },
   "outputs": [],
   "source": [
    "alpha6b = erosion\n",
    "beta6b = dilation\n",
    "resp6_envb = []\n",
    "display_image(results6[i])\n",
    "for i in range(len(results6)):\n",
    "    resp6_envb.append((results6[i] | alpha6b(results6[i], window6))& beta6b(results6[i], window6))\n",
    "    draw_img(resp6_envb[i])"
   ]
  },
  {
   "cell_type": "markdown",
   "metadata": {},
   "source": [
    "Q7. Utilize a técnica de envelope com multiresolução para aprender um operador capaz de remover ruído de imagens. Para cada uma das janelas, defina funções $\\alpha$ e $\\beta$ (podem ser diferentes). Compare o resultado obtido aplicando a mistura de técnicas com os resultados das duas questões anteriores."
   ]
  },
  {
   "cell_type": "code",
   "execution_count": null,
   "metadata": {
    "collapsed": true
   },
   "outputs": [],
   "source": [
    "results7a = []\n",
    "alpha7a = opening\n",
    "beta7a = closing\n",
    "for i in range(len(results5)):\n",
    "    results7a.append((results5[i] | alpha7a(results5[i], window6))& beta6a(results5[i], window6))\n",
    "    draw_img(results7a[i])"
   ]
  },
  {
   "cell_type": "markdown",
   "metadata": {},
   "source": [
    "Q8. A função gen_rand_imgs abaixo retorna um par de imagens. A primeira contém alguns pontos gerados aleatoriamente. A segunda é a dilatação da primeira por um elemento estruturante em forma de cruz. Aprenda o operador capaz de realizar essa transformação, gerando os pares de src e dest. Crie os dados de treinamento baseado na equação vista em sala ($m(\\epsilon, \\delta, H) = \\frac{1}{\\epsilon}ln\\frac{|H|}{\\delta}$). Compare o resultado obtido pelo seu classificador (gere mais pares para teste e ter uma estimativa de $E_{out}$) para $\\epsilon = [0.2, 0.1]$ e $\\delta = [0.3, 0.2]$."
   ]
  },
  {
   "cell_type": "code",
   "execution_count": 65,
   "metadata": {
    "collapsed": false
   },
   "outputs": [
    {
     "data": {
      "image/png": "[encoded data removed]",
      "text/plain": [
       "<matplotlib.figure.Figure at 0x7f5366bf95f8>"
      ]
     },
     "metadata": {},
     "output_type": "display_data"
    },
    {
     "data": {
      "image/png": "[encoded data removed]",
      "text/plain": [
       "<matplotlib.figure.Figure at 0x7f536719fb00>"
      ]
     },
     "metadata": {},
     "output_type": "display_data"
    },
    {
     "name": "stdout",
     "output_type": "stream",
     "text": [
      "15 33\n"
     ]
    },
    {
     "data": {
      "image/png": "[encoded data removed]",
      "text/plain": [
       "<matplotlib.figure.Figure at 0x7f536683d278>"
      ]
     },
     "metadata": {},
     "output_type": "display_data"
    },
    {
     "data": {
      "image/png": "[encoded data removed]",
      "text/plain": [
       "<matplotlib.figure.Figure at 0x7f5366e5bd30>"
      ]
     },
     "metadata": {},
     "output_type": "display_data"
    },
    {
     "data": {
      "image/png": "[encoded data removed]",
      "text/plain": [
       "<matplotlib.figure.Figure at 0x7f5366e656d8>"
      ]
     },
     "metadata": {},
     "output_type": "display_data"
    },
    {
     "data": {
      "image/png": "[encoded data removed]",
      "text/plain": [
       "<matplotlib.figure.Figure at 0x7f5366804898>"
      ]
     },
     "metadata": {},
     "output_type": "display_data"
    },
    {
     "data": {
      "image/png": "[encoded data removed]",
      "text/plain": [
       "<matplotlib.figure.Figure at 0x7f5366a18ac8>"
      ]
     },
     "metadata": {},
     "output_type": "display_data"
    },
    {
     "data": {
      "image/png": "[encoded data removed]",
      "text/plain": [
       "<matplotlib.figure.Figure at 0x7f5366cf5080>"
      ]
     },
     "metadata": {},
     "output_type": "display_data"
    },
    {
     "data": {
      "image/png": "[encoded data removed]",
      "text/plain": [
       "<matplotlib.figure.Figure at 0x7f5366892080>"
      ]
     },
     "metadata": {},
     "output_type": "display_data"
    },
    {
     "data": {
      "image/png": "[encoded data removed]",
      "text/plain": [
       "<matplotlib.figure.Figure at 0x7f536714b400>"
      ]
     },
     "metadata": {},
     "output_type": "display_data"
    },
    {
     "data": {
      "image/png": "[encoded data removed]",
      "text/plain": [
       "<matplotlib.figure.Figure at 0x7f5366d67470>"
      ]
     },
     "metadata": {},
     "output_type": "display_data"
    },
    {
     "data": {
      "image/png": "[encoded data removed]",
      "text/plain": [
       "<matplotlib.figure.Figure at 0x7f5366bfdf60>"
      ]
     },
     "metadata": {},
     "output_type": "display_data"
    },
    {
     "name": "stdout",
     "output_type": "stream",
     "text": [
      "erro1: 0.0\n",
      "erro2: 0.0\n"
     ]
    }
   ],
   "source": [
    "def gen_rand_imgs():\n",
    "    noise = np.zeros((20, 20)).astype(bool)\n",
    "    num_pixels = 20\n",
    "    x = np.random.randint(0, 20, num_pixels)\n",
    "    y = np.random.randint(0, 20, num_pixels)\n",
    "\n",
    "    for i in range(num_pixels):\n",
    "        noise[x[i], y[i]] = 1\n",
    "\n",
    "    return noise, dilation(noise, se_cross(1))\n",
    "\n",
    "src5_1, dest5_1 = gen_rand_imgs()\n",
    "src5_2, dest5_2 = gen_rand_imgs()\n",
    "draw_img_pair(src5_1, dest5_1)\n",
    "draw_img_pair(src5_2, dest5_2)\n",
    "\n",
    "window8 = se_cross(1).astype('bool')\n",
    "center8 = (1,1)\n",
    "epsilon = [0.2, 0.1]\n",
    "delta = [0.3, 0.2]\n",
    "\n",
    "m1 = int(np.ceil(1/epsilon[0]*np.log(5/delta[0])))\n",
    "m2 = int(np.ceil(1/epsilon[1]*np.log(5/delta[1])))\n",
    "print(m1, m2)\n",
    "in_image8 = []\n",
    "out_image8 = []\n",
    "for i in range(m2):\n",
    "    im1, im2 = gen_rand_imgs()\n",
    "    in_image8.append(im1)\n",
    "    out_image8.append(im2)\n",
    "\n",
    "tests8 = []\n",
    "exp_re8 = []\n",
    "for i in range(5):\n",
    "    im, im2 = gen_rand_imgs()\n",
    "    tests8.append(im)\n",
    "    exp_re8.append(im2)\n",
    "result8a = learn_geral(in_image8[:m1], out_image8[:m1], window8, center8)\n",
    "result8b = learn_geral(in_image8, out_image8, window8, center8)\n",
    "\n",
    "resp8a = []\n",
    "resp8b = []\n",
    "error_out8a = 0.0\n",
    "error_out8b = 0.0\n",
    "for i in range(len(tests8)):\n",
    "    resp8a.append(apply_learn(result8a, tests8[i], window8, center8))\n",
    "    resp8b.append(apply_learn(result8b, tests8[i], window8, center8))\n",
    "    draw_img_pair(tests8[i], resp8a[i])\n",
    "    draw_img_pair(tests8[i], resp8b[i])\n",
    "    error_out8a += calculate_error(resp8a[i], exp_re8[i])\n",
    "    error_out8b += calculate_error(resp8b[i], exp_re8[i])\n",
    "\n",
    "H, W = np.shape(tests8[0])\n",
    "n = len(tests8)\n",
    "error_out8a = error_out8a/(n*W*H)\n",
    "error_out8b = error_out8b/(n*W*H)\n",
    "print('erro1:', error_out8a)\n",
    "print('erro2:', error_out8b)"
   ]
  },
  {
   "cell_type": "code",
   "execution_count": null,
   "metadata": {
    "collapsed": true
   },
   "outputs": [],
   "source": []
  }
 ],
 "metadata": {
  "kernelspec": {
   "display_name": "Python 3",
   "language": "python",
   "name": "python3"
  },
  "language_info": {
   "codemirror_mode": {
    "name": "ipython",
    "version": 3
   },
   "file_extension": ".py",
   "mimetype": "text/x-python",
   "name": "python",
   "nbconvert_exporter": "python",
   "pygments_lexer": "ipython3",
   "version": "3.5.3"
  }
 },
 "nbformat": 4,
 "nbformat_minor": 2
}
