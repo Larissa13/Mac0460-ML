{
 "cells": [
  {
   "cell_type": "markdown",
   "metadata": {
    "collapsed": true
   },
   "source": [
    "### Nome: Larissa de Oliveira Penteado\n",
    "### Nusp: 8941338"
   ]
  },
  {
   "cell_type": "code",
   "execution_count": 2,
   "metadata": {
    "collapsed": true
   },
   "outputs": [],
   "source": [
    "%matplotlib inline\n",
    "import numpy as np\n",
    "import matplotlib.pyplot as plt\n",
    "from sklearn.preprocessing import StandardScaler\n",
    "from sklearn.svm import SVC\n",
    "from sklearn.model_selection import learning_curve, GridSearchCV"
   ]
  },
  {
   "cell_type": "markdown",
   "metadata": {},
   "source": [
    "# MAC0460/5832 - Lista 4: SVM - MNIST\n",
    "\n",
    "### Data de Entrega: 23h55m do dia XX/07/2017\n",
    "\n",
    "##### Classificação de dígitos\n",
    "Os dataset para esta tarefa é uma adaptação do disponível na competição do kaggle de reconhecimento de dígitos (https://www.kaggle.com/c/digit-recognizer) e está disponível em http://vision.ime.usp.br/~caiomr/mac0460_5832/train_svm.csv.gz. O dataset está sob a licença Creative Commons Attribution-Share Alike 3.0 license (https://creativecommons.org/licenses/by-sa/3.0/). O dataset foi zipado, e apenas os dígitos 5 e 6 foram mantidos. Cada linha (amostra) do arquivo contém 257 colunas: a primeira informa o label da amostra (0 para o dígito 5, 1 para o dígito 6) e as outras 256 são os valores dos pixels da imagem (16 x 16) que representa o dígito.\n",
    "\n",
    "Note que esse dataset difere do usado no EP3: as imagens sofreram pequenas rotações e translações aleatórias, além de terem sido escalonadas para o tamanho 16x16. Veja também que pode ser necessário realizar algum tipo de normalização para realizar um treinamento efetivo com SVM. Para auxiliar na normalização dos dados, consultem o seguinte link: http://scikit-learn.org/stable/modules/preprocessing.html. \n",
    "\n",
    "Q1. Use SVM para classificar os dígitos 5 e 6. Utilize as funções do scikit learn (http://scikit-learn.org/, http://scikit-learn.org/stable/modules/svm.html) para realizar o treinamento.\n",
    "\n",
    "Teste os kernels linear e RBF da seguinte maneira:\n",
    "1. Escolha aleatoriamente 932 amostras para formarem o conjunto de teste.\n",
    "2. Com as 7000 amostras restantes, utilize validação cruzada (com número de folds K = 5) para escolher os parâmetros do seu classificador, isto é: C (peso da *soft margin*) para o kernel linear; C e gamma para o kernel RBF.\n",
    "3. Plote a curva experimental de aprendizado para o melhor SVM com kernel linear e o melhor SVM com kernel RBF escolhidos por validação cruzada. Use as 932 amostras do conjunto de teste para estimar $E_{out}$. Comente sobre o resultado."
   ]
  },
  {
   "cell_type": "code",
   "execution_count": 3,
   "metadata": {},
   "outputs": [
    {
     "name": "stdout",
     "output_type": "stream",
     "text": [
      "(7932, 257)\n"
     ]
    }
   ],
   "source": [
    "data = np.genfromtxt('data/train_svm.csv', delimiter=',')\n",
    "print(data.shape)"
   ]
  },
  {
   "cell_type": "code",
   "execution_count": 4,
   "metadata": {},
   "outputs": [
    {
     "name": "stdout",
     "output_type": "stream",
     "text": [
      "Label:  1\n"
     ]
    },
    {
     "data": {
      "image/png": "[encoded data removed]",
      "text/plain": [
       "<matplotlib.figure.Figure at 0x7f507eea7cc0>"
      ]
     },
     "metadata": {},
     "output_type": "display_data"
    },
    {
     "name": "stdout",
     "output_type": "stream",
     "text": [
      "Label:  0\n"
     ]
    },
    {
     "data": {
      "image/png": "[encoded data removed]",
      "text/plain": [
       "<matplotlib.figure.Figure at 0x7f50750ae358>"
      ]
     },
     "metadata": {},
     "output_type": "display_data"
    },
    {
     "name": "stdout",
     "output_type": "stream",
     "text": [
      "Label:  1\n"
     ]
    },
    {
     "data": {
      "image/png": "[encoded data removed]",
      "text/plain": [
       "<matplotlib.figure.Figure at 0x7f5074495470>"
      ]
     },
     "metadata": {},
     "output_type": "display_data"
    },
    {
     "name": "stdout",
     "output_type": "stream",
     "text": [
      "Label:  0\n"
     ]
    },
    {
     "data": {
      "image/png": "[encoded data removed]",
      "text/plain": [
       "<matplotlib.figure.Figure at 0x7f50748da8d0>"
      ]
     },
     "metadata": {},
     "output_type": "display_data"
    }
   ],
   "source": [
    "sample = data[0]\n",
    "print(\"Label: \", int(sample[0]))\n",
    "plt.imshow(sample[1:].reshape((16, 16)), cmap='gray')\n",
    "plt.show()\n",
    "\n",
    "sample = data[1]\n",
    "print(\"Label: \", int(sample[0]))\n",
    "plt.imshow(sample[1:].reshape((16, 16)), cmap='gray')\n",
    "plt.show()\n",
    "\n",
    "sample = data[20]\n",
    "print(\"Label: \", int(sample[0]))\n",
    "plt.imshow(sample[1:].reshape((16, 16)), cmap='gray')\n",
    "plt.show()\n",
    "\n",
    "sample = data[25]\n",
    "print(\"Label: \", int(sample[0]))\n",
    "plt.imshow(sample[1:].reshape((16, 16)), cmap='gray')\n",
    "plt.show()"
   ]
  },
  {
   "cell_type": "code",
   "execution_count": 19,
   "metadata": {
    "collapsed": true
   },
   "outputs": [],
   "source": [
    "def plot_curve(estimator, data, label, title):\n",
    "    train_sizes, train_scores, test_scores = learning_curve(estimator, data, label, cv=5, n_jobs=4)\n",
    "    plt.figure()\n",
    "    plt.title(title)\n",
    "    plt.ylim(ymin = 0.7, ymax = 1.1)\n",
    "    plt.xlabel(\"Tamanho do conjunto de treinamento\")   \n",
    "    plt.ylabel(\"Score\")\n",
    "    plt.plot(train_sizes, np.mean(train_scores, axis=1), 'o-', color = 'r', label = \"Score de treinamento\")\n",
    "    plt.plot(train_sizes, np.mean(test_scores, axis=1), 'o-', color = 'b', label= 'Score de Teste')\n",
    "    plt.legend(loc=\"best\")\n",
    "    return plt"
   ]
  },
  {
   "cell_type": "code",
   "execution_count": 17,
   "metadata": {
    "collapsed": true
   },
   "outputs": [],
   "source": [
    "np.random.shuffle(data)\n",
    "labels_t = np.zeros(data.shape[0])\n",
    "labels_t[np.arange(data.shape[0])] = data[:, 0]\n",
    "\n",
    "scaled_dataval  = StandardScaler().fit_transform(X = data[:, 1:])"
   ]
  },
  {
   "cell_type": "code",
   "execution_count": 7,
   "metadata": {},
   "outputs": [
    {
     "name": "stdout",
     "output_type": "stream",
     "text": [
      "\n"
     ]
    }
   ],
   "source": [
    "##### Kernel Linear #####\n",
    "C = {'C': [0.001, 0.01, 0.1, 1, 5]}\n",
    "cls_lin = SVC(C = 1, kernel = 'linear')\n",
    "clf_lin = GridSearchCV(cls_lin, C, cv = 5)\n",
    "clf_lin.fit(scaled_dataval[932:, :], labels_t[932:])\n",
    "print()"
   ]
  },
  {
   "cell_type": "code",
   "execution_count": 8,
   "metadata": {},
   "outputs": [
    {
     "name": "stdout",
     "output_type": "stream",
     "text": [
      "Eout com kernel linear: 0.0600858369099 . Melhor C escolhido por validacao cruzada:  0.01\n"
     ]
    }
   ],
   "source": [
    "x = clf_lin.best_estimator_.predict(scaled_dataval[:932, :])\n",
    "eout_lin = np.sum(np.abs(x-labels_t[:932]))/932.0\n",
    "print(\"Eout com kernel linear:\",eout_lin, \". Melhor C escolhido por validacao cruzada: \",\n",
    "      clf_lin.best_estimator_.C)"
   ]
  },
  {
   "cell_type": "code",
   "execution_count": 9,
   "metadata": {
    "scrolled": true
   },
   "outputs": [
    {
     "data": {
      "image/png": "[encoded data removed]",
      "text/plain": [
       "<matplotlib.figure.Figure at 0x7f50bf52a048>"
      ]
     },
     "metadata": {},
     "output_type": "display_data"
    }
   ],
   "source": [
    "plot_curve(clf_lin.best_estimator_, scaled_dataval[932:, :], labels_t[932:], \"SVM com kernel linear\")\n",
    "plt.show()"
   ]
  },
  {
   "cell_type": "code",
   "execution_count": 20,
   "metadata": {},
   "outputs": [
    {
     "name": "stdout",
     "output_type": "stream",
     "text": [
      "\n"
     ]
    }
   ],
   "source": [
    "##### Kernel RBF #####\n",
    "params = {'C' : [0.001, 0.01, 0.1, 1, 5], 'gamma' : [0.001, 0.01, 0.1]}\n",
    "cls_rbf = SVC(C=1.0, kernel = 'rbf') \n",
    "clf_rbf = GridSearchCV(cls_rbf, params, cv = 5)\n",
    "clf_rbf.fit(scaled_dataval[932:, :], labels_t[932:])\n",
    "print()"
   ]
  },
  {
   "cell_type": "code",
   "execution_count": 21,
   "metadata": {},
   "outputs": [
    {
     "name": "stdout",
     "output_type": "stream",
     "text": [
      "Eout com kernel rbf: 0.0171673819742 . Melhores C e gamma escolhidos: 5 e 0.01\n"
     ]
    }
   ],
   "source": [
    "x = clf_rbf.best_estimator_.predict(scaled_dataval[:932, :])\n",
    "eout_rbf = np.sum((np.abs(x - labels_t[:932])))/932.0\n",
    "print(\"Eout com kernel rbf:\", eout_rbf, \". Melhores C e gamma escolhidos:\",\n",
    "      clf_rbf.best_estimator_.C, \"e\", clf_rbf.best_estimator_.gamma)"
   ]
  },
  {
   "cell_type": "code",
   "execution_count": 22,
   "metadata": {
    "scrolled": true
   },
   "outputs": [
    {
     "data": {
      "image/png": "[encoded data removed]",
      "text/plain": [
       "<matplotlib.figure.Figure at 0x7f50995ddc18>"
      ]
     },
     "metadata": {},
     "output_type": "display_data"
    }
   ],
   "source": [
    "plot_curve(clf_rbf.best_estimator_, scaled_dataval[932:, :], labels_t[932:], \"SVM com kernel rbf\")\n",
    "plt.show()"
   ]
  },
  {
   "cell_type": "markdown",
   "metadata": {
    "collapsed": true
   },
   "source": [
    "### Comentários:\n",
    "Podemos perceber que o C (que é o parâmetro de penalidade) do SVM com kernel linear (0.01) é menor que o C do SVM com kernel rbf (5), além disso, o Eout deste é menor que o do outro, mostrando que quanto maior o valor do C, menor a probabilidade de haver amostras classificadas erroneamente. Atuando, assim, como um fator de regularização, ajudando a evitar o overfitting. Já o gama influencia no quão longe duas amostras podem estar e mesmo assim serem classificadas como do mesmo tipo. Quanto menor o gama, maior esta distância pode ser. Neste caso, como só temos dois tipos de dados, e eles variam bastante, é razoável que o gama seja um pouco menor. Testei gamas maiores, porém o programa se mostrava muito lento, e mesmo assim, por validação cruzada, o gama escolhido era 0.01. Daí decidi por testar os gamas acima."
   ]
  }
 ],
 "metadata": {
  "kernelspec": {
   "display_name": "Python 3",
   "language": "python",
   "name": "python3"
  },
  "language_info": {
   "codemirror_mode": {
    "name": "ipython",
    "version": 3
   },
   "file_extension": ".py",
   "mimetype": "text/x-python",
   "name": "python",
   "nbconvert_exporter": "python",
   "pygments_lexer": "ipython3",
   "version": "3.6.1"
  }
 },
 "nbformat": 4,
 "nbformat_minor": 2
}
