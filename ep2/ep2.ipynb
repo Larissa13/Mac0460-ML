{
 "cells": [
  {
   "cell_type": "code",
   "execution_count": 1,
   "metadata": {
    "collapsed": false,
    "deletable": true,
    "editable": true
   },
   "outputs": [],
   "source": [
    "%matplotlib inline\n",
    "import matplotlib.pyplot as plt\n",
    "import numpy as np\n",
    "import PIL\n",
    "\n",
    "from mac0460_5832.utils import *"
   ]
  },
  {
   "cell_type": "code",
   "execution_count": 2,
   "metadata": {
    "collapsed": true
   },
   "outputs": [],
   "source": [
    "\"\"\"Funcoes extraidas do github de Dennis José da Silva, de eps feitos para a materia Mac0470-Visao Computacional e\n",
    "processamento de imagens\"\"\"\n",
    "\n",
    "def read_image(filename):\n",
    "    import PIL.Image\n",
    "    return pil2array(PIL.Image.open(filename)) \n",
    "\n",
    "def pil2array(pil):\n",
    "    w, h = pil.size\n",
    "    shape = (h, w)\n",
    "    image_dtype = np.uint8\n",
    "    if pil.mode == '1':\n",
    "        image_dtype = np.bool\n",
    "    elif pil.mode == 'L':\n",
    "        image_dtype = np.uint8\n",
    "    elif pil.mode == 'I;16B':\n",
    "        image_dtype = np.uint16\n",
    "    elif pil.mode  in ('F', 'I'):\n",
    "        image_dtype = np.uint32\n",
    "    elif pil.mode == 'P':\n",
    "        pil = pil.convert('RGB')\n",
    "        shape = (h,w,3)\n",
    "    elif pil.mode in ('RGB', 'YCbCr'):\n",
    "        shape = (h,w,3)\n",
    "        image_dtype = np.uint8\n",
    "    elif pil.mode in ('RGBA', 'CMYK'):\n",
    "        shape = (h,w,4)\n",
    "        image_dtype = np.uint8\n",
    "    else:\n",
    "        raise TypeError(\"Invalid or unimplemented PIL image mode '%s'\" % pil.mode)\n",
    "    img = np.array(pil.getdata(), image_dtype).reshape(shape)\n",
    "    if img.dtype == bool:\n",
    "        return img\n",
    "    return img > 127\n",
    "\n",
    "def display_image(ima, width=None, height=None):\n",
    "    from io import BytesIO\n",
    "    import PIL.Image\n",
    "    from IPython.display import display, Image\n",
    "\n",
    "    im = PIL.Image.fromarray(np.uint8(ima))\n",
    "    bio = BytesIO()\n",
    "    im.save(bio, format='png')\n",
    "\n",
    "    if width is None and height is None:\n",
    "        display(Image(bio.getvalue(),  format='png'))\n",
    "    elif width is None:\n",
    "        display(Image(bio.getvalue(), height=height,  format='png'))\n",
    "    elif height is None:\n",
    "        display(Image(bio.getvalue(), width=width,  format='png'))\n",
    "    else:\n",
    "        display(Image(bio.getvalue(), width=width, height=height,  format='png'))"
   ]
  },
  {
   "cell_type": "code",
   "execution_count": 20,
   "metadata": {
    "collapsed": true
   },
   "outputs": [],
   "source": [
    "def insert_counter(key, counter, value):\n",
    "    if not key in counter:\n",
    "            counter[key] = [0, 0]\n",
    "    counter[key][value] += 1\n",
    "    \n",
    "def check_counter(key, counter):\n",
    "    if key in counter:\n",
    "        return counter[key]\n",
    "    else: return False\n",
    "\n",
    "def get_value(i, j, img):\n",
    "    H, W = np.shape(img)\n",
    "    if i<0 or j<0 or i>=H or j>=W:\n",
    "        return False\n",
    "    else: return img[i][j]\n",
    "    \n",
    "def get_pattern(i, j, img, window, win_center):\n",
    "    h, w = np.shape(window)\n",
    "    i_cen = i - win_center[0]\n",
    "    j_cen = j - win_center[1]\n",
    "    pattern = []\n",
    "    for k in range(h):\n",
    "        for l in range(w):\n",
    "            if window[k][l] == True:\n",
    "                pattern.append(get_value(i_cen+k, j_cen+l,img))\n",
    "    return tuple(pattern)\n",
    "\n",
    "def get_result(counter):\n",
    "    result = dict()\n",
    "    for pattern in counter:\n",
    "        if counter[pattern][0] >= counter[pattern][1]:\n",
    "            result[pattern] = False\n",
    "        else: result[pattern] = True\n",
    "    return result\n",
    "\n",
    "def learn_geral(in_image, out_image, window, center):\n",
    "    counter = dict()\n",
    "    for k in range(len(in_image)):\n",
    "        image = in_image[k]\n",
    "        H,W = np.shape(image)\n",
    "        for i in range(H):\n",
    "            for j in range(W):\n",
    "                pattern = get_pattern(i, j, image, window, center)\n",
    "                insert_counter(pattern, counter, out_image[k][i][j])\n",
    "            \n",
    "    return get_result(counter)\n",
    "\n",
    "def learn_geralIt(in_image, out_image, window, center, counter):\n",
    "    H,W = np.shape(in_image)\n",
    "    for i in range(H):\n",
    "        for j in range(W):\n",
    "            pattern = get_pattern(i, j, in_image, window, center)\n",
    "            insert_counter(pattern, counter, out_image[i][j])\n",
    "    return counter\n",
    "\n",
    "def apply_learn(result, image, window, center):\n",
    "    H, W = np.shape(image)\n",
    "    o_image = np.zeros((H,W), dtype=bool)\n",
    "    for i in range(H):\n",
    "        for j in range(W):\n",
    "            a = get_pattern(i, j, image, window, center)\n",
    "            o_image[i][j] = check_counter(a, result)\n",
    "    return o_image\n",
    "\n",
    "def apply_learnmult(result, image, window, center):\n",
    "    n = len(result)\n",
    "    H, W = np.shape(image)\n",
    "    o_image = np.zeros((H,W), dtype=bool)\n",
    "    for i in range(H):\n",
    "        for j in range(W):\n",
    "            found = False\n",
    "            k = 0\n",
    "            while k<n and not found:\n",
    "                a = get_pattern(i, j, image, window[k], center[k])\n",
    "                if a in result[k]:\n",
    "                    o_image[i][j] = result[k][a]\n",
    "                    found = True\n",
    "                k+=1\n",
    "    return o_image\n",
    "\n",
    "def calculate_error(image_in, image_out):\n",
    "    error = 0.0\n",
    "    for i in range(np.shape(image_in)[0]):\n",
    "        for j in range(np.shape(image_in)[1]):\n",
    "            if (image_in[i][j]) != (image_out[i][j]):\n",
    "                error+=1\n",
    "    return error\n",
    "\n",
    "def get_resultsIt(in_image, out_image, window, center, n):\n",
    "    dicts = []\n",
    "    counter = dict()\n",
    "    results = []\n",
    "    dicts.append(learn_geralIt(in_image[0], out_image[0], window, center, counter))\n",
    "    results.append(get_result(dicts[0]))\n",
    "    for i in range(1, n):\n",
    "        dicts.append(learn_geralIt(in_image[i], out_image[i], window, center, dicts[i-1]))\n",
    "        results.append(get_result(dicts[i]))\n",
    "    return results"
   ]
  },
  {
   "cell_type": "markdown",
   "metadata": {
    "deletable": true,
    "editable": true
   },
   "source": [
    "# MAC0460/5832 - Lista 2: Escolha de modelo\n",
    "\n",
    "### Data de Entrega: 23h55m do dia 05/06/2017\n",
    "\n",
    "\n",
    "Q1. Projete, a partir dos dados, o operador capaz de filtrar ruído usando a técnica de multiresolução. Como conjuntos de hipóteses, utilize diferentes subamostragens da janela original, como ilustrado abaixo:\n",
    "\n",
    "1. Subamostragem 1: ![alt text](imgs/q1_h1.png \"1\")\n",
    "2. Subamostragem 2: ![alt text](imgs/q1_h2.png \"2\")\n",
    "3. Subamostragem 3: ![alt text](imgs/q1_h3.png \"2\")\n",
    "\n",
    "Para cada conjunto, plote os erros  $E_{in}$ e $E_{val}$ ao longo do treinamento. Após escolher o modelo mais apropriado, retreine seu operador com todos os dados e imprima o erro $E_{in}$.\n",
    "\n",
    "Utilize as imagens da pasta imgs/q1/ para realizar o treinamento e validação (nota: são as mesmas imagens do EP anterior)."
   ]
  },
  {
   "cell_type": "code",
   "execution_count": 4,
   "metadata": {
    "collapsed": false,
    "deletable": true,
    "editable": true
   },
   "outputs": [],
   "source": [
    "#Leitura de imagens\n",
    "in_images1 = []\n",
    "for i in range(1,11):\n",
    "    in_images1.append(read_img(\"imgs/q1/q1_src{}.png\".format(i)))\n",
    "    \n",
    "n = len(in_images1)\n",
    "out_image1 = [read_img(\"imgs/q1/q1_dest.png\")]*n\n",
    "H, W = np.shape(out_image1[0])"
   ]
  },
  {
   "cell_type": "code",
   "execution_count": 5,
   "metadata": {
    "collapsed": false
   },
   "outputs": [],
   "source": [
    "#janelas\n",
    "\n",
    "window1 = se_box(2).astype('bool')\n",
    "window1a = np.zeros((5, 5)).astype('bool')\n",
    "window1a[::2,::2] = True\n",
    "window1b = [[True]]\n",
    "window1c = se_box(1).astype('bool')\n",
    "window1d = se_cross(2).astype('bool')\n",
    "window1e = se_cross(1).astype('bool')\n",
    "\n",
    "center1a = (2, 2) #window1, window1a, window1d\n",
    "center1b = (1, 1) #window1c, window1e\n",
    "center1c = (0, 0) #window 1b"
   ]
  },
  {
   "cell_type": "code",
   "execution_count": 6,
   "metadata": {
    "collapsed": true
   },
   "outputs": [],
   "source": [
    "#CRIAR DICTS COM O LEARN_GERALIT E CRIAR COUNTERS ITERATIVOS E USAR GET_RESULT PARA APLICAR O APRENDIZADO"
   ]
  },
  {
   "cell_type": "code",
   "execution_count": 7,
   "metadata": {
    "collapsed": true
   },
   "outputs": [],
   "source": [
    "#MUDAR TUDO ABAIXO"
   ]
  },
  {
   "cell_type": "code",
   "execution_count": 21,
   "metadata": {
    "collapsed": false
   },
   "outputs": [],
   "source": [
    "#Janela 1 (window1 5x5, com centro center1a)\n",
    "results1 = get_resultsIt(in_images1[:8], out_image1[:8], window1, center1a, 8)"
   ]
  },
  {
   "cell_type": "code",
   "execution_count": null,
   "metadata": {
    "collapsed": true
   },
   "outputs": [],
   "source": [
    "#Janela 1a (window1a 5x5, com center center1a)\n",
    "results1a = get_resultsIt(in_images1[:8], out_image1[:8], window1a, center1a, 8)"
   ]
  },
  {
   "cell_type": "code",
   "execution_count": 10,
   "metadata": {
    "collapsed": false
   },
   "outputs": [],
   "source": [
    "#Janela 1b (window1b 1x1, com centro center1c)\n",
    "results1b = get_resultsIt(in_images1[:8], out_image1[:8], window1b, center1c, 8)"
   ]
  },
  {
   "cell_type": "code",
   "execution_count": 11,
   "metadata": {
    "collapsed": true
   },
   "outputs": [],
   "source": [
    "#Janela 1c (window1c 3x3, com centro center1b)\n",
    "results1c = get_resultsIt(in_images1[:8], out_image1[:8], window1c, center1b, 8)"
   ]
  },
  {
   "cell_type": "code",
   "execution_count": 12,
   "metadata": {
    "collapsed": true
   },
   "outputs": [],
   "source": [
    "#Janela 1d (window1d, cruz 5x5, com centro center1a)\n",
    "results1d = get_resultsIt(in_images1[:8], out_image1[:8], window1d, center1a, 8)"
   ]
  },
  {
   "cell_type": "code",
   "execution_count": 13,
   "metadata": {
    "collapsed": false
   },
   "outputs": [
    {
     "ename": "KeyboardInterrupt",
     "evalue": "",
     "output_type": "error",
     "traceback": [
      "\u001b[1;31m---------------------------------------------------------------------------\u001b[0m",
      "\u001b[1;31mKeyboardInterrupt\u001b[0m                         Traceback (most recent call last)",
      "\u001b[1;32m<ipython-input-13-4e3d80d75ffe>\u001b[0m in \u001b[0;36m<module>\u001b[1;34m()\u001b[0m\n\u001b[0;32m      1\u001b[0m \u001b[1;31m#Janela 1e (window1e, cruz 3x3, com centro center1b)\u001b[0m\u001b[1;33m\u001b[0m\u001b[1;33m\u001b[0m\u001b[0m\n\u001b[1;32m----> 2\u001b[1;33m \u001b[0mresults1e\u001b[0m \u001b[1;33m=\u001b[0m \u001b[0mget_resultsIt\u001b[0m\u001b[1;33m(\u001b[0m\u001b[0min_images1\u001b[0m\u001b[1;33m,\u001b[0m \u001b[0mout_image1\u001b[0m\u001b[1;33m,\u001b[0m \u001b[0mwindow1e\u001b[0m\u001b[1;33m,\u001b[0m \u001b[0mcenter1b\u001b[0m\u001b[1;33m)\u001b[0m\u001b[1;33m\u001b[0m\u001b[0m\n\u001b[0m",
      "\u001b[1;32m<ipython-input-3-b6d03b830da6>\u001b[0m in \u001b[0;36mget_resultsIt\u001b[1;34m(in_image, out_image, window, center)\u001b[0m\n\u001b[0;32m     94\u001b[0m     \u001b[0mresults\u001b[0m\u001b[1;33m.\u001b[0m\u001b[0mappend\u001b[0m\u001b[1;33m(\u001b[0m\u001b[0mget_result\u001b[0m\u001b[1;33m(\u001b[0m\u001b[0mdicts\u001b[0m\u001b[1;33m[\u001b[0m\u001b[1;36m0\u001b[0m\u001b[1;33m]\u001b[0m\u001b[1;33m)\u001b[0m\u001b[1;33m)\u001b[0m\u001b[1;33m\u001b[0m\u001b[0m\n\u001b[0;32m     95\u001b[0m     \u001b[1;32mfor\u001b[0m \u001b[0mi\u001b[0m \u001b[1;32min\u001b[0m \u001b[0mrange\u001b[0m\u001b[1;33m(\u001b[0m\u001b[1;36m1\u001b[0m\u001b[1;33m,\u001b[0m \u001b[0mn\u001b[0m\u001b[1;33m)\u001b[0m\u001b[1;33m:\u001b[0m\u001b[1;33m\u001b[0m\u001b[0m\n\u001b[1;32m---> 96\u001b[1;33m         \u001b[0mdicts\u001b[0m\u001b[1;33m.\u001b[0m\u001b[0mappend\u001b[0m\u001b[1;33m(\u001b[0m\u001b[0mlearn_geralIt\u001b[0m\u001b[1;33m(\u001b[0m\u001b[0min_image\u001b[0m\u001b[1;33m[\u001b[0m\u001b[0mi\u001b[0m\u001b[1;33m]\u001b[0m\u001b[1;33m,\u001b[0m \u001b[0mout_image\u001b[0m\u001b[1;33m[\u001b[0m\u001b[0mi\u001b[0m\u001b[1;33m]\u001b[0m\u001b[1;33m,\u001b[0m \u001b[0mwindow\u001b[0m\u001b[1;33m,\u001b[0m \u001b[0mcenter\u001b[0m\u001b[1;33m,\u001b[0m \u001b[0mdicts\u001b[0m\u001b[1;33m[\u001b[0m\u001b[0mi\u001b[0m\u001b[1;33m-\u001b[0m\u001b[1;36m1\u001b[0m\u001b[1;33m]\u001b[0m\u001b[1;33m)\u001b[0m\u001b[1;33m)\u001b[0m\u001b[1;33m\u001b[0m\u001b[0m\n\u001b[0m\u001b[0;32m     97\u001b[0m         \u001b[0mresults\u001b[0m\u001b[1;33m.\u001b[0m\u001b[0mappend\u001b[0m\u001b[1;33m(\u001b[0m\u001b[0mget_result\u001b[0m\u001b[1;33m(\u001b[0m\u001b[0mdicts\u001b[0m\u001b[1;33m[\u001b[0m\u001b[0mi\u001b[0m\u001b[1;33m]\u001b[0m\u001b[1;33m)\u001b[0m\u001b[1;33m)\u001b[0m\u001b[1;33m\u001b[0m\u001b[0m\n\u001b[0;32m     98\u001b[0m     \u001b[1;32mreturn\u001b[0m \u001b[0mresults\u001b[0m\u001b[1;33m\u001b[0m\u001b[0m\n",
      "\u001b[1;32m<ipython-input-3-b6d03b830da6>\u001b[0m in \u001b[0;36mlearn_geralIt\u001b[1;34m(in_image, out_image, window, center, counter)\u001b[0m\n\u001b[0;32m     50\u001b[0m     \u001b[1;32mfor\u001b[0m \u001b[0mi\u001b[0m \u001b[1;32min\u001b[0m \u001b[0mrange\u001b[0m\u001b[1;33m(\u001b[0m\u001b[0mH\u001b[0m\u001b[1;33m)\u001b[0m\u001b[1;33m:\u001b[0m\u001b[1;33m\u001b[0m\u001b[0m\n\u001b[0;32m     51\u001b[0m         \u001b[1;32mfor\u001b[0m \u001b[0mj\u001b[0m \u001b[1;32min\u001b[0m \u001b[0mrange\u001b[0m\u001b[1;33m(\u001b[0m\u001b[0mW\u001b[0m\u001b[1;33m)\u001b[0m\u001b[1;33m:\u001b[0m\u001b[1;33m\u001b[0m\u001b[0m\n\u001b[1;32m---> 52\u001b[1;33m             \u001b[0mpattern\u001b[0m \u001b[1;33m=\u001b[0m \u001b[0mget_pattern\u001b[0m\u001b[1;33m(\u001b[0m\u001b[0mi\u001b[0m\u001b[1;33m,\u001b[0m \u001b[0mj\u001b[0m\u001b[1;33m,\u001b[0m \u001b[0min_image\u001b[0m\u001b[1;33m,\u001b[0m \u001b[0mwindow\u001b[0m\u001b[1;33m,\u001b[0m \u001b[0mcenter\u001b[0m\u001b[1;33m)\u001b[0m\u001b[1;33m\u001b[0m\u001b[0m\n\u001b[0m\u001b[0;32m     53\u001b[0m             \u001b[0minsert_counter\u001b[0m\u001b[1;33m(\u001b[0m\u001b[0mpattern\u001b[0m\u001b[1;33m,\u001b[0m \u001b[0mcounter\u001b[0m\u001b[1;33m,\u001b[0m \u001b[0mout_image\u001b[0m\u001b[1;33m[\u001b[0m\u001b[0mi\u001b[0m\u001b[1;33m]\u001b[0m\u001b[1;33m[\u001b[0m\u001b[0mj\u001b[0m\u001b[1;33m]\u001b[0m\u001b[1;33m)\u001b[0m\u001b[1;33m\u001b[0m\u001b[0m\n\u001b[0;32m     54\u001b[0m     \u001b[1;32mreturn\u001b[0m \u001b[0mcounter\u001b[0m\u001b[1;33m\u001b[0m\u001b[0m\n",
      "\u001b[1;32m<ipython-input-3-b6d03b830da6>\u001b[0m in \u001b[0;36mget_pattern\u001b[1;34m(i, j, img, window, win_center)\u001b[0m\n\u001b[0;32m     22\u001b[0m     \u001b[1;32mfor\u001b[0m \u001b[0mk\u001b[0m \u001b[1;32min\u001b[0m \u001b[0mrange\u001b[0m\u001b[1;33m(\u001b[0m\u001b[0mh\u001b[0m\u001b[1;33m)\u001b[0m\u001b[1;33m:\u001b[0m\u001b[1;33m\u001b[0m\u001b[0m\n\u001b[0;32m     23\u001b[0m         \u001b[1;32mfor\u001b[0m \u001b[0ml\u001b[0m \u001b[1;32min\u001b[0m \u001b[0mrange\u001b[0m\u001b[1;33m(\u001b[0m\u001b[0mw\u001b[0m\u001b[1;33m)\u001b[0m\u001b[1;33m:\u001b[0m\u001b[1;33m\u001b[0m\u001b[0m\n\u001b[1;32m---> 24\u001b[1;33m             \u001b[1;32mif\u001b[0m \u001b[0mwindow\u001b[0m\u001b[1;33m[\u001b[0m\u001b[0mk\u001b[0m\u001b[1;33m]\u001b[0m\u001b[1;33m[\u001b[0m\u001b[0ml\u001b[0m\u001b[1;33m]\u001b[0m \u001b[1;33m==\u001b[0m \u001b[1;32mTrue\u001b[0m\u001b[1;33m:\u001b[0m\u001b[1;33m\u001b[0m\u001b[0m\n\u001b[0m\u001b[0;32m     25\u001b[0m                 \u001b[0mpattern\u001b[0m\u001b[1;33m.\u001b[0m\u001b[0mappend\u001b[0m\u001b[1;33m(\u001b[0m\u001b[0mget_value\u001b[0m\u001b[1;33m(\u001b[0m\u001b[0mi_cen\u001b[0m\u001b[1;33m+\u001b[0m\u001b[0mk\u001b[0m\u001b[1;33m,\u001b[0m \u001b[0mj_cen\u001b[0m\u001b[1;33m+\u001b[0m\u001b[0ml\u001b[0m\u001b[1;33m,\u001b[0m\u001b[0mimg\u001b[0m\u001b[1;33m)\u001b[0m\u001b[1;33m)\u001b[0m\u001b[1;33m\u001b[0m\u001b[0m\n\u001b[0;32m     26\u001b[0m     \u001b[1;32mreturn\u001b[0m \u001b[0mtuple\u001b[0m\u001b[1;33m(\u001b[0m\u001b[0mpattern\u001b[0m\u001b[1;33m)\u001b[0m\u001b[1;33m\u001b[0m\u001b[0m\n",
      "\u001b[1;31mKeyboardInterrupt\u001b[0m: "
     ]
    }
   ],
   "source": [
    "#Janela 1e (window1e, cruz 3x3, com centro center1b)\n",
    "results1e = get_resultsIt(in_images1[:8], out_image1[:8], window1e, center1b, 8)"
   ]
  },
  {
   "cell_type": "code",
   "execution_count": null,
   "metadata": {
    "collapsed": false
   },
   "outputs": [
    {
     "name": "stdout",
     "output_type": "stream",
     "text": [
      "0.0\n",
      "0.011384765625\n",
      "0.015891927083333333\n",
      "0.017724609375\n"
     ]
    }
   ],
   "source": [
    "#subamostragem1 window1, window1a, window1b\n",
    "e_in1 = []\n",
    "e_val1 = []\n",
    "results_sub1 = [results1, results1a, results1b]\n",
    "windows_sub1 = [window1, window1a, window1b]\n",
    "centers_sub1 = [center1a, center1a, center1c]\n",
    "for i in range(n):\n",
    "    results = [results_sub1[0][i], results_sub1[1][i], results_sub1[2][i]]\n",
    "    e_in = 0.0\n",
    "    for j in range(i):\n",
    "        res_image = apply_learnmult(results, in_images1[j], windows_sub1, centers_sub1)\n",
    "        e_in += calculate_error(res_image, out_image1[j])\n",
    "        \n",
    "    e_in1.append(e_in/(H*W*(i+1)))\n",
    "    print(e_in1[i])\n",
    "    e_val = 0.0\n",
    "    for j in range(8, 10):\n",
    "        res_image = apply_learnmult(results, in_images1[j], windows_sub1, centers_sub1)\n",
    "        e_val += (calculate_error(res_image, out_image1[j]))\n",
    "    e_val1.append(e_val/(H*W*2))\n",
    "    \n",
    "plt.plot(e_in1)\n",
    "plt.xlabel('Número de imagens de Treino utilizadas')\n",
    "plt.ylabel('E_in Subamostragem 1')"
   ]
  },
  {
   "cell_type": "code",
   "execution_count": null,
   "metadata": {
    "collapsed": false
   },
   "outputs": [],
   "source": [
    "#subamostragem2 window1, window1c, window1b\n",
    "ein_2 = []\n",
    "results_sub2 = [results1, results1c, results1b]\n",
    "windows_sub2 = [window1, window1c, window1b]\n",
    "centers_sub2 = [center1a, center1b, center1c]\n",
    "for i in range(n):\n",
    "    results = [results_sub2[0][i], results_sub2[1][i], results_sub2[2][i]]\n",
    "    e_in = 0.0\n",
    "    for j in range(n):\n",
    "        res_image = apply_learnmult(results, in_image[j], windows_sub2, centers_sub2)\n",
    "        e_in += (calculate_error(res_image, out_image1[j])/(H*W))\n",
    "    e_in2.append(e_in)\n",
    "    \n",
    "plt.plot(e_in2)\n",
    "plt.xlabel('Número de imagens de Treino utilizadas')\n",
    "plt.ylabel('E_in Subamostragem 2')"
   ]
  },
  {
   "cell_type": "code",
   "execution_count": null,
   "metadata": {
    "collapsed": false
   },
   "outputs": [],
   "source": [
    "#subamsotragem3 window1, window1d, window1e, window1b\n",
    "e_in3 = []\n",
    "results_sub3 = [results1, results1d, results1e, results1b]\n",
    "windows_sub3 = [window1, window1d, window1e, window1b]\n",
    "centers_sub3 = [center11,  center1a, center1b, center1c]\n",
    "for i in range(n):\n",
    "    results = [results_sub3[0][i], results_sub3[1][i], results_sub3[2][i], results_sub3[3][i]]\n",
    "    e_in = 0.0\n",
    "    for j in range(n):\n",
    "        res_image = apply_learnmult(results, in_image[j], windows_sub3, centers_sub3)\n",
    "        e_in += (calculate_error(res_image, out_image1[j])/(H*W))\n",
    "    e_in1.append(e_in)\n",
    "    \n",
    "plt.plot(e_in3)\n",
    "plt.xlabel('Número de imagens de Treino utilizadas')\n",
    "plt.ylabel('E_in Subamostragem 3')"
   ]
  },
  {
   "cell_type": "markdown",
   "metadata": {
    "deletable": true,
    "editable": true
   },
   "source": [
    "Q2. Considere novamente o problema de filtrar ruído. Utilizando as imagens da pasta imgs/q2/, explore diferentes funções booleanas para filtrar ruído. A operação **abertura** é definida como uma **erosão** seguida por uma **dilatação**, isto é $\\delta_{B2}\\epsilon_{B1}$, onde $B1$ e $B2$ são os elementos estruturantes. De modo semelhante, a função **fechamento** é definida por uma **dilatação** seguida por uma **erosão** ($\\epsilon_{B2}\\delta_{B1}$). Baseado nas funções *erosion* e *dilation* definidas em mac0460_5832/utils.py, teste os seguintes espaços de hipóteses:\n",
    "\n",
    "1. Abertura;\n",
    "2. Fechamento;\n",
    "3. Abertura seguida de fechamento;\n",
    "\n",
    "Para cada espaço de hipóteses, defina diferentes funções variando $B1$ e $B2$ (ou seja, crie as funções de maneira análoga à seguinte definição para um conjunto de aberturas: $\\mathcal{F} = \\{\\psi_{B1B2}: \\psi =  \\delta_{B2}\\epsilon_{B1}, B1, B2 \\subseteq W_{3x3} \\}$, onde $W_{3x3}$ é a janela 3x3). Mostre a função que tem menor erro e verifique o seu desempenho nos dados de teste.\n",
    "\n",
    "Obs: existe no utils.py funções para abertura e fechamento. No entanto, essas funções utilizam o mesmo elemento estruturante para a erosão e dilatação, não permitindo o uso de diferentes elementos estruturantes. "
   ]
  },
  {
   "cell_type": "code",
   "execution_count": 10,
   "metadata": {
    "collapsed": false,
    "deletable": true,
    "editable": true,
    "scrolled": false
   },
   "outputs": [
    {
     "data": {
      "image/png": "[encoded data removed]",
      "text/plain": [
       "<matplotlib.figure.Figure at 0x7f930a470eb8>"
      ]
     },
     "metadata": {},
     "output_type": "display_data"
    }
   ],
   "source": [
    "# Exemplo \n",
    "draw_img_pair(read_img('imgs/q2/dest.png'), read_img('imgs/q2/src0.png'), figsz=(11, 3.5))"
   ]
  },
  {
   "cell_type": "code",
   "execution_count": 11,
   "metadata": {
    "collapsed": false
   },
   "outputs": [],
   "source": [
    "#leitura das imagens\n",
    "in_images2 = []\n",
    "out_image2 = read_img(\"imgs/q2/dest.png\")\n",
    "test_images2 = []\n",
    "for i in range(5):\n",
    "    in_images2.append(read_img(\"imgs/q2/src{}.png\".format(i)))\n",
    "for i in range(2):\n",
    "    test_images2.append(read_img(\"imgs/q2/test{}.png\".format(i)))"
   ]
  },
  {
   "cell_type": "code",
   "execution_count": 12,
   "metadata": {
    "collapsed": true
   },
   "outputs": [],
   "source": [
    "def my_opening(image, b1, b2):\n",
    "    new_image = dilation(erosion(image, b1), b2)\n",
    "    return new_image\n",
    "\n",
    "def my_closing(image, b1, b2):\n",
    "    new_image = erosion(dilation(image, b1), b2)\n",
    "    return new_image"
   ]
  },
  {
   "cell_type": "code",
   "execution_count": 22,
   "metadata": {
    "collapsed": false
   },
   "outputs": [],
   "source": [
    "#Criar Janelas 3x3\n",
    "window2 = se_box(1).astype('bool')\n",
    "window2a = se_cross(1).astype('bool')\n",
    "window2b = ~window2a\n",
    "windows2 = [window2, window2a, window2b]\n",
    "n = len(windows2)\n",
    "min_errO = float(\"inf\")\n",
    "min_errC = float(\"inf\")\n",
    "min_errOC = float(\"inf\")\n",
    "chosenO = []\n",
    "chosenC = []\n",
    "chosenOC = []"
   ]
  },
  {
   "cell_type": "code",
   "execution_count": null,
   "metadata": {
    "collapsed": false
   },
   "outputs": [
    {
     "name": "stdout",
     "output_type": "stream",
     "text": [
      "OPENING\n"
     ]
    },
    {
     "data": {
      "image/png": "[encoded data removed]",
      "text/plain": [
       "<matplotlib.figure.Figure at 0x7f930806f898>"
      ]
     },
     "metadata": {},
     "output_type": "display_data"
    },
    {
     "name": "stdout",
     "output_type": "stream",
     "text": [
      "CLOSING\n"
     ]
    },
    {
     "data": {
      "image/png": "[encoded data removed]",
      "text/plain": [
       "<matplotlib.figure.Figure at 0x7f93085ff4a8>"
      ]
     },
     "metadata": {},
     "output_type": "display_data"
    },
    {
     "name": "stdout",
     "output_type": "stream",
     "text": [
      "OPENING SEGUIDO DE CLOSING\n"
     ]
    },
    {
     "data": {
      "image/png": "[encoded data removed]",
      "text/plain": [
       "<matplotlib.figure.Figure at 0x7f9307f21cf8>"
      ]
     },
     "metadata": {},
     "output_type": "display_data"
    },
    {
     "name": "stdout",
     "output_type": "stream",
     "text": [
      "OPENING\n"
     ]
    },
    {
     "data": {
      "image/png": "[encoded data removed]",
      "text/plain": [
       "<matplotlib.figure.Figure at 0x7f9307f94390>"
      ]
     },
     "metadata": {},
     "output_type": "display_data"
    },
    {
     "name": "stdout",
     "output_type": "stream",
     "text": [
      "CLOSING\n"
     ]
    },
    {
     "data": {
      "image/png": "[encoded data removed]",
      "text/plain": [
       "<matplotlib.figure.Figure at 0x7f9308186978>"
      ]
     },
     "metadata": {},
     "output_type": "display_data"
    },
    {
     "name": "stdout",
     "output_type": "stream",
     "text": [
      "OPENING SEGUIDO DE CLOSING\n"
     ]
    },
    {
     "data": {
      "image/png": "[encoded data removed]",
      "text/plain": [
       "<matplotlib.figure.Figure at 0x7f930823ea58>"
      ]
     },
     "metadata": {},
     "output_type": "display_data"
    }
   ],
   "source": [
    "for i in range(n):\n",
    "    for j in range(n):\n",
    "        errorO = 0.0\n",
    "        errorC = 0.0\n",
    "        for k in range(len(in_images2)):\n",
    "            res_imageo = my_opening(in_images2[k], windows2[i], windows2[j])\n",
    "            res_imagec = my_closing(in_images2[k], windows2[i], windows2[j])\n",
    "            errorO += calculate_error(res_imageo, out_image2)\n",
    "            errorC += calculate_error(res_imagec, out_image2)\n",
    "        if (errorO < min_errO): \n",
    "            min_errorO = errorO\n",
    "            chosen_O = (i, j)\n",
    "        if (errorC < min_errC):\n",
    "            min_errC = errorC\n",
    "            chosen_C = (i, j)\n",
    "            \n",
    "for i in range(n):\n",
    "    for j in range(n):\n",
    "        for k in range(n):\n",
    "            for l in range(n):\n",
    "                errOC = 0.0\n",
    "                for m in range(len(in_images2)):\n",
    "                    res_imageOC = my_closing(my_opening(in_images2[m],windows2[i], windows2[j]), windows2[k], windows2[l])\n",
    "                    errOC = calculate_error(res_imageOC, out_image2)\n",
    "                if errOC < min_errOC:\n",
    "                    min_errOC = errOC\n",
    "                    chosen_OC = (i, j, k, l)\n",
    "\n",
    "for i in range(len(test_images2)):\n",
    "    print(\"OPENING\")\n",
    "    draw_img_pair(test_images2[i], my_opening(test_images2[i], windows2[chosen_O[0]], windows2[chosen_O[1]]))\n",
    "    print(\"CLOSING\")\n",
    "    draw_img_pair(test_images2[i], my_closing(test_images2[i], windows2[chosen_C[0]], windows2[chosen_C[1]]))\n",
    "    print(\"OPENING SEGUIDO DE CLOSING\")\n",
    "    draw_img_pair(test_images2[i], my_closing(my_opening(test_images2[i], windows2[chosen_OC[0]], windows2[chosen_OC[1]]),\n",
    "                                              windows2[chosen_OC[2]], windows2[chosen_OC[3]]))"
   ]
  }
 ],
 "metadata": {
  "kernelspec": {
   "display_name": "Python 3",
   "language": "python",
   "name": "python3"
  },
  "language_info": {
   "codemirror_mode": {
    "name": "ipython",
    "version": 3
   },
   "file_extension": ".py",
   "mimetype": "text/x-python",
   "name": "python",
   "nbconvert_exporter": "python",
   "pygments_lexer": "ipython3",
   "version": "3.5.3"
  }
 },
 "nbformat": 4,
 "nbformat_minor": 2
}
